{
 "cells": [
  {
   "cell_type": "code",
   "execution_count": 9,
   "id": "62529f18",
   "metadata": {},
   "outputs": [
    {
     "name": "stdout",
     "output_type": "stream",
     "text": [
      "          Product               Price              Rating  \\\n",
      "0   Not available       Not available       Not available   \n",
      "1   Not available      $656.99$656.99       Not available   \n",
      "2   Not available        $89.98$89.98  4.0 out of 5 stars   \n",
      "3   Not available      $559.99$559.99       Not available   \n",
      "4   Not available      $299.99$299.99  4.5 out of 5 stars   \n",
      "5   Not available      $448.98$448.98  4.2 out of 5 stars   \n",
      "6   Not available      $178.99$178.99  3.8 out of 5 stars   \n",
      "7   Not available       Not available       Not available   \n",
      "8   Not available      $949.99$949.99  4.4 out of 5 stars   \n",
      "9   Not available      $296.89$296.89  4.2 out of 5 stars   \n",
      "10  Not available      $299.95$299.95  4.5 out of 5 stars   \n",
      "11  Not available      $369.99$369.99  4.5 out of 5 stars   \n",
      "12  Not available      $228.80$228.80  4.4 out of 5 stars   \n",
      "13  Not available  $1,049.99$1,049.99  4.3 out of 5 stars   \n",
      "14  Not available       Not available       Not available   \n",
      "15  Not available      $999.00$999.00  4.2 out of 5 stars   \n",
      "16  Not available        $99.99$99.99  4.1 out of 5 stars   \n",
      "17  Not available        $42.98$42.98  3.8 out of 5 stars   \n",
      "18  Not available  $1,299.99$1,299.99  4.7 out of 5 stars   \n",
      "19  Not available      $189.93$189.93  4.5 out of 5 stars   \n",
      "20  Not available  $1,318.60$1,318.60  4.3 out of 5 stars   \n",
      "21  Not available      $289.00$289.00  4.2 out of 5 stars   \n",
      "22  Not available      $499.99$499.99  4.1 out of 5 stars   \n",
      "23  Not available      $849.99$849.99  4.5 out of 5 stars   \n",
      "24  Not available      $429.00$429.00  4.3 out of 5 stars   \n",
      "25  Not available      $399.99$399.99  3.7 out of 5 stars   \n",
      "26  Not available      $581.00$581.00  4.4 out of 5 stars   \n",
      "27  Not available      $319.99$319.99  4.5 out of 5 stars   \n",
      "28  Not available      $649.00$649.00  4.3 out of 5 stars   \n",
      "29  Not available      $440.69$440.69  4.4 out of 5 stars   \n",
      "30  Not available      $419.99$419.99  4.3 out of 5 stars   \n",
      "31  Not available      $299.99$299.99  4.4 out of 5 stars   \n",
      "32  Not available      $483.00$483.00  4.1 out of 5 stars   \n",
      "33  Not available        $79.98$79.98  4.0 out of 5 stars   \n",
      "34  Not available        $59.99$59.99  3.9 out of 5 stars   \n",
      "35  Not available        $94.99$94.99  4.7 out of 5 stars   \n",
      "36  Not available       Not available       Not available   \n",
      "37  Not available       Not available       Not available   \n",
      "38  Not available       Not available       Not available   \n",
      "\n",
      "                                Reviews  \n",
      "0                         Not available  \n",
      "1   Only 19 left in stock - order soon.  \n",
      "2                                   857  \n",
      "3                         Not available  \n",
      "4                                37,796  \n",
      "5                                   719  \n",
      "6                                 1,068  \n",
      "7                         Not available  \n",
      "8                                 3,148  \n",
      "9                                 1,425  \n",
      "10                                   99  \n",
      "11                                  448  \n",
      "12                                  154  \n",
      "13                                  680  \n",
      "14                        Not available  \n",
      "15                                  314  \n",
      "16                                  336  \n",
      "17                                  339  \n",
      "18                                  423  \n",
      "19                               10,270  \n",
      "20                                  953  \n",
      "21                                  183  \n",
      "22                                  138  \n",
      "23                                2,195  \n",
      "24                                  358  \n",
      "25                                  540  \n",
      "26                                  435  \n",
      "27                                   69  \n",
      "28                                  321  \n",
      "29                                  548  \n",
      "30                                  160  \n",
      "31                                   81  \n",
      "32                                   14  \n",
      "33                                   18  \n",
      "34                                  204  \n",
      "35                                   20  \n",
      "36                        Not available  \n",
      "37                                   or  \n",
      "38                        Not available  \n",
      "Excel file saved successfully.\n"
     ]
    }
   ],
   "source": [
    "import requests\n",
    "from bs4 import BeautifulSoup\n",
    "import pandas as pd\n",
    "\n",
    "# Send an HTTP request and retrieve the HTML content\n",
    "url = \"https://www.amazon.com/s?i=specialty-aps&bbn=16225007011&rh=n%3A16225007011%2Cn%3A13896617011&language=en_US&currency=INR&ref=nav_em__nav_desktop_sa_intl_computers_tablets_0_2_6_4\"\n",
    "headers = {\n",
    "    \"User-Agent\": \"Mozilla/5.0 (Windows NT 10.0; Win64; x64) AppleWebKit/537.36 (KHTML, like Gecko) Chrome/58.0.3029.110 Safari/537.3\"\n",
    "}\n",
    "response = requests.get(url, headers=headers)  #This ensures that the request includes these headers when it is sent to the server.\n",
    "soup = BeautifulSoup(response.content, \"html.parser\")\n",
    "\n",
    "'''In BeautifulSoup, the first argument of BeautifulSoup constructor expects either a string or a file-like object \n",
    "containing the HTML content to be parsed. When a bytes-like object (such as response.content) is passed, \n",
    "BeautifulSoup will use its built-in HTML parser to decode the content '''\n",
    "\n",
    "# Initialize lists to store data\n",
    "products = []\n",
    "prices = []\n",
    "ratings = []\n",
    "reviews = []\n",
    "\n",
    "# Extract data from the HTML content\n",
    "for product in soup.find_all(\"div\", class_=\"s-result-item\"):\n",
    "    product_name_tag = product.find(\"span\", class_=\"a-size-medium\")\n",
    "    product_price_tag = product.find(\"span\", class_=\"a-price\")\n",
    "    product_rating_tag = product.find(\"span\", class_=\"a-icon-alt\")\n",
    "    product_review_count_tag = product.find(\"span\", class_=\"a-size-base\")\n",
    "    \n",
    "    if product_name_tag:\n",
    "        products.append(product_name_tag.text.strip())\n",
    "    else:\n",
    "        products.append(\"Not available\")\n",
    "\n",
    "    if product_price_tag:\n",
    "        prices.append(product_price_tag.text.strip())\n",
    "    else:\n",
    "        prices.append(\"Not available\")\n",
    "\n",
    "    if product_rating_tag:\n",
    "        ratings.append(product_rating_tag.text.strip())\n",
    "    else:\n",
    "        ratings.append(\"Not available\")\n",
    "\n",
    "    if product_review_count_tag:\n",
    "        reviews.append(product_review_count_tag.text.strip())\n",
    "    else:\n",
    "        reviews.append(\"Not available\")\n",
    "\n",
    "# Create a DataFrame\n",
    "data = {\n",
    "    \"Product\": products,\n",
    "    \"Price\": prices,\n",
    "    \"Rating\": ratings,\n",
    "    \"Reviews\": reviews\n",
    "}\n",
    "df = pd.DataFrame(data)\n",
    "\n",
    "# Print the DataFrame\n",
    "print(df)\n",
    "\n",
    "# Convert DataFrame to Excel file\n",
    "excel_file = \"amazon_data.xlsx\"\n",
    "df.to_excel(excel_file, index=False)\n",
    "print(\"Excel file saved successfully.\")\n"
   ]
  },
  {
   "cell_type": "code",
   "execution_count": null,
   "id": "e552d15e",
   "metadata": {},
   "outputs": [],
   "source": []
  },
  {
   "cell_type": "code",
   "execution_count": 4,
   "id": "7ec548eb",
   "metadata": {},
   "outputs": [
    {
     "name": "stdout",
     "output_type": "stream",
     "text": [
      "Current working directory: C:\\Users\\SDO\n"
     ]
    }
   ],
   "source": [
    "import os\n",
    "print(\"Current working directory:\", os.getcwd())\n"
   ]
  },
  {
   "cell_type": "code",
   "execution_count": 4,
   "id": "8a72f0ea",
   "metadata": {},
   "outputs": [
    {
     "data": {
      "text/plain": [
       "'\\n\\t\\t\\t\\t\\t\\t\\tList of companies in India\\n\\t\\t\\t\\t\\t\\t'"
      ]
     },
     "execution_count": 4,
     "metadata": {},
     "output_type": "execute_result"
    }
   ],
   "source": [
    "import pandas as pd\n",
    "import requests\n",
    "from bs4 import BeautifulSoup\n",
    "import numpy as np\n",
    "\n",
    "url ='https://www.ambitionbox.com/list-of-companies?page=1'\n",
    "headers={'User-Agent':'Mozilla/5.0 (Windows NT 6.3; Win 64 ; x64) Apple WeKit /537.36(KHTML , like Gecko) Chrome/80.0.3987.162 Safari/537.36'}\n",
    "webpage =requests.get(url,headers=headers).text\n",
    "soup = BeautifulSoup(webpage,'lxml')  #html parser ='lxml'\n",
    "soup.find_all('h1')[0].text\n",
    "\n",
    "\n",
    "\n",
    "\n",
    "# print(soup.prettify())"
   ]
  },
  {
   "cell_type": "code",
   "execution_count": 5,
   "id": "a392be7f",
   "metadata": {},
   "outputs": [
    {
     "name": "stdout",
     "output_type": "stream",
     "text": [
      "TCS\n",
      "Accenture\n",
      "Cognizant\n",
      "Wipro\n",
      "Capgemini\n",
      "HDFC Bank\n",
      "ICICI Bank\n",
      "Infosys\n",
      "HCLTech\n",
      "Tech Mahindra\n",
      "Genpact\n",
      "Axis Bank\n",
      "Teleperformance\n",
      "Concentrix Corporation\n",
      "Jio\n",
      "Amazon\n",
      "IBM\n",
      "Reliance Retail\n",
      "HDB Financial Services\n",
      "Larsen & Toubro Limited\n",
      "Companies by  Industry\n",
      "Companies by  Locations\n",
      "Companies by  Type\n",
      "Companies by  Badges\n"
     ]
    }
   ],
   "source": [
    "for i in soup.find_all('h2'):\n",
    "    print(i.text.strip())"
   ]
  },
  {
   "cell_type": "code",
   "execution_count": 7,
   "id": "b1e53ff9",
   "metadata": {},
   "outputs": [
    {
     "name": "stdout",
     "output_type": "stream",
     "text": [
      "<p class=\"mt-2 text-sm text-gray-500 md:text-base dark:text-gray-400\">Confused on which course to take? I have got you covered. Browse courses and find out the best course for you. Its free! Code With Harry is my attempt to teach basics and those coding techniques to people in short time which took me ages to learn.</p>\n",
      "['mt-2', 'text-sm', 'text-gray-500', 'md:text-base', 'dark:text-gray-400']\n",
      "[]\n",
      "Learn to code online - CodeWithHarry</> CodeWithHarryMenuLoginHomeCoursesTutorialBlogNotesContactMy GearWork With UsLoginSignupHTMLCSSJSCC++JAVAPYTHONPHPREACT JSHomeCoursesTutorial HTMLCSSJSCC++JAVAPYTHONPHPREACT JSBlogNotesContactMy GearWork With UsWelcome to Learn Confused on which course to take? I have got you covered. Browse courses and find out the best course for you. Its free! Code With Harry is my attempt to teach basics and those coding techniques to people in short time which took me ages to learn.Free CoursesExplore BlogRecommended CoursesFREE COURSEPython Tutorials - 100 Days of Code    Python is one of the most demanded programming languages in the job market. Surprisingly, it is equally easy to learn and master Python. Let's commit our 100 days of code to python!  Start Watching FREE COURSEUltimate JavaScript CourseThis latest JavaScript course comes with premium curriculum that covers everything from basics to advance. On top of that, you will get my handwritten notes of JS for completely free. What are you waiting for? Just Enroll Buddy  Start Watching FREE COURSEReact JS Tutorials For BeginnersReact is a free and open-source front-end JavaScript library. This series will cover React from starting to the end. We will learn react from the ground up!  Start Watching TestimonialsI don't have words to thank this man, I'm really grateful to have this channel and website in my daily routine. If you're a mere beginner, then you can trust this guy and can put your time into his content. I can assure you that it'll be worth it.Mohit KumarWeb DeveloperFor everyone who wants to level up their #Coding and #Dev skills - seriously, this channel is for you! Both basic and advanced stacks are covered on this channel, and one can learn according to his skill levels. And the icing on the cake is, everything is available for free.Rakesh ShettyWeb DeveloperCodeWithHarryCopyright © 2024 CodeWithHarry.com\n",
      "Confused on which course to take? I have got you covered. Browse courses and find out the best course for you. Its free! Code With Harry is my attempt to teach basics and those coding techniques to people in short time which took me ages to learn.\n",
      "/\n",
      "/videos/\n",
      "/tutorials/\n",
      "/blog/\n",
      "/notes/\n",
      "/contact/\n",
      "/my-gear/\n",
      "/work/\n",
      "/tutorial/html-home/\n",
      "/tutorial/css-home/\n",
      "/tutorial/js/\n",
      "/tutorial/c/\n",
      "/tutorial/cplusplus/\n",
      "/tutorial/java/\n",
      "/tutorial/python/\n",
      "/tutorial/php/\n",
      "/tutorial/react-home/\n",
      "/\n",
      "/videos/\n",
      "/tutorial/html-home/\n",
      "/tutorial/css-home/\n",
      "/tutorial/js/\n",
      "/tutorial/c/\n",
      "/tutorial/cplusplus/\n",
      "/tutorial/java/\n",
      "/tutorial/python/\n",
      "/tutorial/php/\n",
      "/tutorial/react-home/\n",
      "/blog/\n",
      "/notes/\n",
      "/contact/\n",
      "/my-gear/\n",
      "/work/\n",
      "https://www.facebook.com/codewithharry\n",
      "https://www.twitter.com/codewithharry\n",
      "https://www.instagram.com/codewithharry\n",
      "https://www.github.com/codewithharry\n"
     ]
    }
   ],
   "source": [
    "import pandas as pd\n",
    "import requests\n",
    "from bs4 import BeautifulSoup\n",
    "import numpy as np\n",
    "\n",
    "url = 'https://codewithharry.com'\n",
    "r = requests.get(url)\n",
    "htmlContent = r.content\n",
    "# print(htmlContent)\n",
    "soup = BeautifulSoup(htmlContent, 'html.parser')\n",
    "# print(soup.prettify())\n",
    "\n",
    "#step 3 hrml tree traversal\n",
    "# commonly used types of obj\n",
    "# print(type(title)          1) tag\n",
    "# print(type(title.string))  2)Navigable string\n",
    "#  print(type(soup)          3)BeautifulSoup\n",
    "# 4)comment\n",
    "\n",
    "# Get the title of Html page\n",
    "title = soup.title\n",
    "\n",
    "#Get all the paragraphs from the page\n",
    "paras = soup.find_all('p')\n",
    "# print(paras)\n",
    "\n",
    "\n",
    "#get 1st element of the HTML page\n",
    "print(soup.find('p'))\n",
    "\n",
    "#get classes of any element of the HTML page\n",
    "print(soup.find('p')['class'])\n",
    "\n",
    "#find all the elements with class lead\n",
    "print(soup.find_all('p',class_='lead'))\n",
    "\n",
    "#get all the text from tags / soup\n",
    "print(soup.get_text())\n",
    "print(soup.find('p').get_text())\n",
    "\n",
    "#Get all the anchor tags from the page\n",
    "anchors = soup.find_all('a')\n",
    "# print(anchors)\n",
    "\n",
    "#get all the links \n",
    "for link in anchors:\n",
    "    print(link.get('href'))"
   ]
  },
  {
   "cell_type": "code",
   "execution_count": null,
   "id": "3e03f82b",
   "metadata": {},
   "outputs": [],
   "source": []
  },
  {
   "cell_type": "code",
   "execution_count": null,
   "id": "09dbadbf",
   "metadata": {},
   "outputs": [],
   "source": []
  },
  {
   "cell_type": "code",
   "execution_count": null,
   "id": "d13d36e6",
   "metadata": {},
   "outputs": [],
   "source": []
  },
  {
   "cell_type": "code",
   "execution_count": null,
   "id": "eb5fb3dc",
   "metadata": {},
   "outputs": [],
   "source": []
  },
  {
   "cell_type": "code",
   "execution_count": null,
   "id": "9746986d",
   "metadata": {},
   "outputs": [],
   "source": []
  },
  {
   "cell_type": "code",
   "execution_count": null,
   "id": "4324aa12",
   "metadata": {},
   "outputs": [],
   "source": []
  },
  {
   "cell_type": "code",
   "execution_count": null,
   "id": "77d51893",
   "metadata": {},
   "outputs": [],
   "source": []
  },
  {
   "cell_type": "code",
   "execution_count": null,
   "id": "b3802573",
   "metadata": {},
   "outputs": [],
   "source": []
  },
  {
   "cell_type": "code",
   "execution_count": null,
   "id": "15b2463d",
   "metadata": {},
   "outputs": [],
   "source": []
  },
  {
   "cell_type": "code",
   "execution_count": null,
   "id": "6e243a02",
   "metadata": {},
   "outputs": [],
   "source": []
  },
  {
   "cell_type": "code",
   "execution_count": null,
   "id": "d6ca4012",
   "metadata": {},
   "outputs": [],
   "source": []
  },
  {
   "cell_type": "code",
   "execution_count": null,
   "id": "993016b5",
   "metadata": {},
   "outputs": [],
   "source": []
  },
  {
   "cell_type": "code",
   "execution_count": null,
   "id": "4f91b324",
   "metadata": {},
   "outputs": [],
   "source": []
  },
  {
   "cell_type": "code",
   "execution_count": null,
   "id": "5bd57448",
   "metadata": {},
   "outputs": [],
   "source": []
  },
  {
   "cell_type": "code",
   "execution_count": null,
   "id": "68e9ca2c",
   "metadata": {},
   "outputs": [],
   "source": []
  },
  {
   "cell_type": "code",
   "execution_count": null,
   "id": "46752e90",
   "metadata": {},
   "outputs": [],
   "source": []
  },
  {
   "cell_type": "code",
   "execution_count": null,
   "id": "b3c59ee5",
   "metadata": {},
   "outputs": [],
   "source": []
  },
  {
   "cell_type": "code",
   "execution_count": null,
   "id": "d00161d9",
   "metadata": {},
   "outputs": [],
   "source": []
  },
  {
   "cell_type": "code",
   "execution_count": null,
   "id": "24f80e3d",
   "metadata": {},
   "outputs": [],
   "source": []
  },
  {
   "cell_type": "code",
   "execution_count": null,
   "id": "07093b16",
   "metadata": {},
   "outputs": [],
   "source": []
  },
  {
   "cell_type": "code",
   "execution_count": null,
   "id": "dea8d262",
   "metadata": {},
   "outputs": [],
   "source": []
  },
  {
   "cell_type": "code",
   "execution_count": null,
   "id": "1c1d72dd",
   "metadata": {},
   "outputs": [],
   "source": []
  },
  {
   "cell_type": "code",
   "execution_count": null,
   "id": "da9d5efb",
   "metadata": {},
   "outputs": [],
   "source": []
  },
  {
   "cell_type": "code",
   "execution_count": null,
   "id": "95067635",
   "metadata": {},
   "outputs": [],
   "source": []
  },
  {
   "cell_type": "code",
   "execution_count": null,
   "id": "575eb104",
   "metadata": {},
   "outputs": [],
   "source": []
  },
  {
   "cell_type": "code",
   "execution_count": null,
   "id": "bfe71cbd",
   "metadata": {},
   "outputs": [],
   "source": []
  },
  {
   "cell_type": "code",
   "execution_count": null,
   "id": "0cf7bbd9",
   "metadata": {},
   "outputs": [],
   "source": []
  },
  {
   "cell_type": "code",
   "execution_count": null,
   "id": "4c348859",
   "metadata": {},
   "outputs": [],
   "source": []
  },
  {
   "cell_type": "code",
   "execution_count": null,
   "id": "2ce994e6",
   "metadata": {},
   "outputs": [],
   "source": []
  },
  {
   "cell_type": "code",
   "execution_count": null,
   "id": "ef07163c",
   "metadata": {},
   "outputs": [],
   "source": []
  },
  {
   "cell_type": "code",
   "execution_count": null,
   "id": "ae71dd7e",
   "metadata": {},
   "outputs": [],
   "source": []
  },
  {
   "cell_type": "code",
   "execution_count": null,
   "id": "d8a9d81e",
   "metadata": {},
   "outputs": [],
   "source": []
  },
  {
   "cell_type": "code",
   "execution_count": null,
   "id": "9a2803b3",
   "metadata": {},
   "outputs": [],
   "source": []
  },
  {
   "cell_type": "code",
   "execution_count": null,
   "id": "edfd5236",
   "metadata": {},
   "outputs": [],
   "source": []
  },
  {
   "cell_type": "code",
   "execution_count": null,
   "id": "ce3895ba",
   "metadata": {},
   "outputs": [],
   "source": []
  },
  {
   "cell_type": "code",
   "execution_count": null,
   "id": "6a9d8a6a",
   "metadata": {},
   "outputs": [],
   "source": []
  },
  {
   "cell_type": "code",
   "execution_count": null,
   "id": "2444845f",
   "metadata": {},
   "outputs": [],
   "source": []
  },
  {
   "cell_type": "code",
   "execution_count": null,
   "id": "7e81ca71",
   "metadata": {},
   "outputs": [],
   "source": []
  },
  {
   "cell_type": "code",
   "execution_count": null,
   "id": "e387de74",
   "metadata": {},
   "outputs": [],
   "source": []
  },
  {
   "cell_type": "code",
   "execution_count": null,
   "id": "9be07873",
   "metadata": {},
   "outputs": [],
   "source": []
  },
  {
   "cell_type": "code",
   "execution_count": null,
   "id": "ffd7bc49",
   "metadata": {},
   "outputs": [],
   "source": []
  },
  {
   "cell_type": "code",
   "execution_count": null,
   "id": "1085a3fa",
   "metadata": {},
   "outputs": [],
   "source": []
  },
  {
   "cell_type": "code",
   "execution_count": null,
   "id": "d8f8841b",
   "metadata": {},
   "outputs": [],
   "source": []
  },
  {
   "cell_type": "code",
   "execution_count": null,
   "id": "a0906aa5",
   "metadata": {},
   "outputs": [],
   "source": []
  },
  {
   "cell_type": "code",
   "execution_count": null,
   "id": "44ce4d4f",
   "metadata": {},
   "outputs": [],
   "source": []
  },
  {
   "cell_type": "code",
   "execution_count": null,
   "id": "bb3535d6",
   "metadata": {},
   "outputs": [],
   "source": []
  },
  {
   "cell_type": "code",
   "execution_count": null,
   "id": "e112c63b",
   "metadata": {},
   "outputs": [],
   "source": []
  },
  {
   "cell_type": "code",
   "execution_count": null,
   "id": "00961fbe",
   "metadata": {},
   "outputs": [],
   "source": []
  },
  {
   "cell_type": "code",
   "execution_count": null,
   "id": "307c464e",
   "metadata": {},
   "outputs": [],
   "source": []
  },
  {
   "cell_type": "code",
   "execution_count": null,
   "id": "a653b8dc",
   "metadata": {},
   "outputs": [],
   "source": []
  },
  {
   "cell_type": "code",
   "execution_count": null,
   "id": "709a1042",
   "metadata": {},
   "outputs": [],
   "source": []
  },
  {
   "cell_type": "code",
   "execution_count": null,
   "id": "12865cc4",
   "metadata": {},
   "outputs": [],
   "source": []
  },
  {
   "cell_type": "code",
   "execution_count": null,
   "id": "28860a9c",
   "metadata": {},
   "outputs": [],
   "source": []
  },
  {
   "cell_type": "code",
   "execution_count": null,
   "id": "8b594e05",
   "metadata": {},
   "outputs": [],
   "source": []
  },
  {
   "cell_type": "code",
   "execution_count": null,
   "id": "424f05d2",
   "metadata": {},
   "outputs": [],
   "source": []
  },
  {
   "cell_type": "code",
   "execution_count": null,
   "id": "b943db22",
   "metadata": {},
   "outputs": [],
   "source": []
  },
  {
   "cell_type": "code",
   "execution_count": null,
   "id": "52ada7f4",
   "metadata": {},
   "outputs": [],
   "source": []
  },
  {
   "cell_type": "code",
   "execution_count": null,
   "id": "2e0d33e0",
   "metadata": {},
   "outputs": [],
   "source": []
  },
  {
   "cell_type": "code",
   "execution_count": null,
   "id": "c16fbc0a",
   "metadata": {},
   "outputs": [],
   "source": []
  },
  {
   "cell_type": "code",
   "execution_count": null,
   "id": "9a0a4421",
   "metadata": {},
   "outputs": [],
   "source": []
  },
  {
   "cell_type": "code",
   "execution_count": null,
   "id": "1429c48d",
   "metadata": {},
   "outputs": [],
   "source": []
  },
  {
   "cell_type": "code",
   "execution_count": null,
   "id": "28a42f42",
   "metadata": {},
   "outputs": [],
   "source": []
  },
  {
   "cell_type": "code",
   "execution_count": null,
   "id": "7e59e443",
   "metadata": {},
   "outputs": [],
   "source": []
  },
  {
   "cell_type": "code",
   "execution_count": null,
   "id": "5a2016dc",
   "metadata": {},
   "outputs": [],
   "source": []
  },
  {
   "cell_type": "code",
   "execution_count": null,
   "id": "daf31ca7",
   "metadata": {},
   "outputs": [],
   "source": []
  },
  {
   "cell_type": "code",
   "execution_count": null,
   "id": "87bce5d8",
   "metadata": {},
   "outputs": [],
   "source": []
  },
  {
   "cell_type": "code",
   "execution_count": null,
   "id": "1009cb1c",
   "metadata": {},
   "outputs": [],
   "source": []
  },
  {
   "cell_type": "code",
   "execution_count": null,
   "id": "2edd13d6",
   "metadata": {},
   "outputs": [],
   "source": []
  },
  {
   "cell_type": "code",
   "execution_count": null,
   "id": "2711c155",
   "metadata": {},
   "outputs": [],
   "source": []
  },
  {
   "cell_type": "code",
   "execution_count": null,
   "id": "abcf9529",
   "metadata": {},
   "outputs": [],
   "source": []
  },
  {
   "cell_type": "code",
   "execution_count": null,
   "id": "c218317f",
   "metadata": {},
   "outputs": [],
   "source": []
  },
  {
   "cell_type": "code",
   "execution_count": null,
   "id": "75018a11",
   "metadata": {},
   "outputs": [],
   "source": []
  },
  {
   "cell_type": "code",
   "execution_count": null,
   "id": "12bb748b",
   "metadata": {},
   "outputs": [],
   "source": []
  },
  {
   "cell_type": "code",
   "execution_count": null,
   "id": "d7925174",
   "metadata": {},
   "outputs": [],
   "source": []
  }
 ],
 "metadata": {
  "kernelspec": {
   "display_name": "Python 3 (ipykernel)",
   "language": "python",
   "name": "python3"
  },
  "language_info": {
   "codemirror_mode": {
    "name": "ipython",
    "version": 3
   },
   "file_extension": ".py",
   "mimetype": "text/x-python",
   "name": "python",
   "nbconvert_exporter": "python",
   "pygments_lexer": "ipython3",
   "version": "3.11.5"
  }
 },
 "nbformat": 4,
 "nbformat_minor": 5
}
